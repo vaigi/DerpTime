{
  "nbformat": 4,
  "nbformat_minor": 0,
  "metadata": {
    "colab": {
      "provenance": [],
      "authorship_tag": "ABX9TyPVeuguDFhrdI2n4kW0Noar",
      "include_colab_link": true
    },
    "kernelspec": {
      "name": "python3",
      "display_name": "Python 3"
    },
    "language_info": {
      "name": "python"
    }
  },
  "cells": [
    {
      "cell_type": "markdown",
      "metadata": {
        "id": "view-in-github",
        "colab_type": "text"
      },
      "source": [
        "<a href=\"https://colab.research.google.com/github/vaigi/DerpTime/blob/main/%D0%9F%D1%80%D0%BE%D0%B3%D1%80%D0%B0%D0%BC%D0%BC%D0%B0%20%D0%B4%D0%BB%D1%8F%20%D0%BE%D0%B1%D1%80%D0%B0%D0%B1%D0%BE%D1%82%D0%BA%D0%B8%20%D0%B4%D0%B0%D0%BD%D0%BD%D1%8B%D1%85%20%D0%BE%20%D1%81%D0%BF%D0%B5%D0%BA%D1%82%D1%80%D0%B0%D1%85%20%D0%B7%D0%B2%D0%B5%D0%B7%D0%B4.ipynb\" target=\"_parent\"><img src=\"https://colab.research.google.com/assets/colab-badge.svg\" alt=\"Open In Colab\"/></a>"
      ]
    },
    {
      "cell_type": "code",
      "execution_count": null,
      "metadata": {
        "id": "P6QZPxihkCtm"
      },
      "outputs": [],
      "source": [
        "import pandas as pd\n",
        "from glob import glob\n",
        "import os\n",
        "import re"
      ]
    },
    {
      "cell_type": "code",
      "source": [
        "for file in glob('*.obs'):\n",
        "    \n",
        "    # меняем расширение всех файлов .obs  на .csv\n",
        "    base = os.path.splitext(file)[0]\n",
        "    os.rename(file, base + \".csv\")   "
      ],
      "metadata": {
        "id": "bSXdwdtskHEq"
      },
      "execution_count": null,
      "outputs": []
    },
    {
      "cell_type": "code",
      "source": [
        "# создадим таблицу для результатов\n",
        "result = pd.DataFrame(columns=['file', 'min', 'max'])"
      ],
      "metadata": {
        "id": "T9B1H-Wxz4IO"
      },
      "execution_count": null,
      "outputs": []
    },
    {
      "cell_type": "code",
      "source": [
        "for file in glob('h*.csv'):\n",
        "       \n",
        "    # прочтём файл\n",
        "    b = pd.read_csv(file)\n",
        "    \n",
        "    # разделим объединенные столбцы\n",
        "    columns = b.columns\n",
        "    b = b[columns[0]].str.split(' ', expand=True)\n",
        "    \n",
        "    # вычислим min и max из первого столбца\n",
        "    min_b = b[0].min()\n",
        "    max_b = b[0].max()\n",
        "    \n",
        "    # добавим новую строку в таблицу с результатами\n",
        "    new_row = {'file':file, 'min':min_b, 'max':max_b}\n",
        "    result = result.append(new_row, ignore_index=True)\n",
        "display(result)"
      ],
      "metadata": {
        "id": "YPhbkcNXkKdH"
      },
      "execution_count": null,
      "outputs": []
    },
    {
      "cell_type": "code",
      "source": [
        "# сохраняем таблицу с результатами в формате xlsx\n",
        "result.to_excel('result.xlsx', engine='xlsxwriter')  "
      ],
      "metadata": {
        "id": "4s5p-fDn0B7X"
      },
      "execution_count": null,
      "outputs": []
    }
  ]
}